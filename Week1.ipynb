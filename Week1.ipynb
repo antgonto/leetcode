{
 "cells": [
  {
   "cell_type": "markdown",
   "id": "c35adf60-5a22-405b-b902-5d3ef79a397f",
   "metadata": {},
   "source": [
    "## 167. Two Sum II - Input Array Is Sorted"
   ]
  },
  {
   "cell_type": "markdown",
   "id": "2b8430dc-1435-4cfd-80c7-5e756f59ba61",
   "metadata": {},
   "source": [
    "https://leetcode.com/problems/two-sum-ii-input-array-is-sorted/description/"
   ]
  },
  {
   "cell_type": "code",
   "execution_count": 8,
   "id": "bad22bf2-8da9-4f2c-8420-99c0bdc293b4",
   "metadata": {},
   "outputs": [],
   "source": [
    "from typing import List\n",
    "class Solution:\n",
    "    def twoSum(self, nums: List[int], target: int) -> List[int]:\n",
    "        l, r = 0, len(nums) - 1\n",
    "        while l < r:\n",
    "            s = nums[l] + nums[r]\n",
    "            if s == target:\n",
    "                return [l + 1, r + 1]  # 1-indexed\n",
    "            if s < target:\n",
    "                l += 1\n",
    "            else:\n",
    "                r -= 1"
   ]
  },
  {
   "cell_type": "code",
   "execution_count": 9,
   "id": "ac24c56d-65cc-4269-a3c6-871c49f63937",
   "metadata": {},
   "outputs": [
    {
     "data": {
      "text/plain": [
       "[1, 2]"
      ]
     },
     "execution_count": 9,
     "metadata": {},
     "output_type": "execute_result"
    }
   ],
   "source": [
    "nums = [2,7,11,15]\n",
    "target = 9\n",
    "# Expected output: [1,2]\n",
    "\n",
    "sol = Solution()\n",
    "sol.twoSum(nums, target)"
   ]
  },
  {
   "cell_type": "markdown",
   "id": "bd9d452d-b8d8-46cd-9938-d547630b92f1",
   "metadata": {},
   "source": [
    "## 238. Product of Array Except Self"
   ]
  },
  {
   "cell_type": "markdown",
   "id": "fcca41ed-e8f0-454a-8a50-d84719294ca2",
   "metadata": {},
   "source": [
    "https://leetcode.com/problems/product-of-array-except-self/description/"
   ]
  },
  {
   "cell_type": "code",
   "execution_count": 10,
   "id": "dd29f023-9ead-4eb6-8654-1085a3fcf213",
   "metadata": {},
   "outputs": [],
   "source": [
    "class Solution:\n",
    "    def productExceptSelf(self, nums: List[int]) -> List[int]:\n",
    "        n = len(nums)\n",
    "        ans = [1] * n\n",
    "        for i in range(1, n):\n",
    "            ans[i] = ans[i - 1] * nums[i - 1]\n",
    "\n",
    "        val = 1\n",
    "        for i in range(n - 1, -1, -1):\n",
    "            ans[i] *= val\n",
    "            val *= nums[i]\n",
    "        return ans        "
   ]
  },
  {
   "cell_type": "code",
   "execution_count": 12,
   "id": "e803bc63-3e45-4686-8a73-28ae8e1b4905",
   "metadata": {},
   "outputs": [
    {
     "data": {
      "text/plain": [
       "[24, 12, 8, 6]"
      ]
     },
     "execution_count": 12,
     "metadata": {},
     "output_type": "execute_result"
    }
   ],
   "source": [
    "nums = [1,2,3,4]\n",
    "sol = Solution()\n",
    "sol.productExceptSelf(nums)"
   ]
  },
  {
   "cell_type": "markdown",
   "id": "9258c8fc-3df5-4741-9f50-2c78c5424e2f",
   "metadata": {},
   "source": [
    "## 75. Sort Colors"
   ]
  },
  {
   "cell_type": "markdown",
   "id": "49d1b4a8-b783-4d21-abe1-98deb7357fbf",
   "metadata": {},
   "source": [
    "https://leetcode.com/problems/sort-colors/description/"
   ]
  },
  {
   "cell_type": "code",
   "execution_count": 16,
   "id": "619d377b-0ad0-40ef-9dbc-ec0e321151a7",
   "metadata": {},
   "outputs": [],
   "source": [
    "class Solution:\n",
    "    def sortColors(self, nums: List[int]) -> None:\n",
    "        low, mid, high = 0, 0, len(nums) - 1\n",
    "        while mid <= high:\n",
    "            if nums[mid] == 0:\n",
    "                nums[low], nums[mid] = nums[mid], nums[low]\n",
    "                low += 1\n",
    "                mid += 1\n",
    "            elif nums[mid] == 1:\n",
    "                mid += 1\n",
    "            elif nums[mid] == 2:\n",
    "                nums[high], nums[mid] = nums[mid], nums[high] \n",
    "                high -= 1"
   ]
  },
  {
   "cell_type": "code",
   "execution_count": 17,
   "id": "24f8c74d-6773-45c6-a357-6b9e0fc90f5e",
   "metadata": {},
   "outputs": [],
   "source": [
    "nums = [2,0,2,1,1,0]\n",
    "sol = Solution()\n",
    "sol.sortColors(nums)"
   ]
  },
  {
   "cell_type": "code",
   "execution_count": null,
   "id": "afcedd6b-0982-4f05-b29f-8dba03bb5f5c",
   "metadata": {},
   "outputs": [],
   "source": []
  }
 ],
 "metadata": {
  "kernelspec": {
   "display_name": "Python 3 (ipykernel)",
   "language": "python",
   "name": "python3"
  },
  "language_info": {
   "codemirror_mode": {
    "name": "ipython",
    "version": 3
   },
   "file_extension": ".py",
   "mimetype": "text/x-python",
   "name": "python",
   "nbconvert_exporter": "python",
   "pygments_lexer": "ipython3",
   "version": "3.13.5"
  }
 },
 "nbformat": 4,
 "nbformat_minor": 5
}
