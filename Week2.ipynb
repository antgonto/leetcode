{
 "cells": [
  {
   "cell_type": "markdown",
   "id": "ba94e5f3-6621-4b32-bb45-2fcce7ad9b35",
   "metadata": {},
   "source": [
    "8. String to Integer (atoi)"
   ]
  },
  {
   "cell_type": "markdown",
   "id": "e451b841-b00b-4520-bf69-25f4456a58c4",
   "metadata": {},
   "source": [
    "https://leetcode.com/problems/string-to-integer-atoi"
   ]
  },
  {
   "cell_type": "code",
   "execution_count": 63,
   "id": "4682b9ba-49e9-44f3-8295-773fb928f709",
   "metadata": {},
   "outputs": [],
   "source": [
    "class Solution:\n",
    "    def myAtoi(self, s: str) -> int:\n",
    "        sign = 1\n",
    "        i, n = 0, len(s)\n",
    "        num = 0\n",
    "        INT_MIN, INT_MAX = -2**31, 2**31 -1\n",
    "        # Ignore leading whitespaces\n",
    "        while i < n and s[i] == ' ':\n",
    "            i += 1\n",
    "\n",
    "        # Determine the sign of the number\n",
    "        if i < n and (s[i] == '+' or s[i] == '-'):\n",
    "            sign = -1 if s[i] == '-' else 1\n",
    "            i += 1\n",
    "        # Read digits\n",
    "        while i < n and s[i].isdigit():\n",
    "            d = int(s[i])\n",
    "\n",
    "            if num > (INT_MAX - d) // 10:\n",
    "                return INT_MIN if sign == -1 else INT_MAX\n",
    "\n",
    "            num = num * 10 + d\n",
    "            i += 1\n",
    "\n",
    "        return sign * num\n",
    "   "
   ]
  },
  {
   "cell_type": "code",
   "execution_count": 65,
   "id": "1833219b-e87d-49d5-9703-0b9ee5908d16",
   "metadata": {},
   "outputs": [
    {
     "name": "stdout",
     "output_type": "stream",
     "text": [
      "-42\n"
     ]
    }
   ],
   "source": [
    "s = '   -042'\n",
    "sol = Solution()\n",
    "print(sol.myAtoi(s))"
   ]
  },
  {
   "cell_type": "markdown",
   "id": "09d69940-ca8c-49b4-b3f1-c4c4ac8fd0b0",
   "metadata": {},
   "source": [
    "438. Find All Anagrams in a String"
   ]
  },
  {
   "cell_type": "markdown",
   "id": "c8556eed-b82e-4eba-b59b-d45158842021",
   "metadata": {},
   "source": [
    "https://leetcode.com/problems/find-all-anagrams-in-a-string"
   ]
  },
  {
   "cell_type": "code",
   "execution_count": 89,
   "id": "513a50ee-9e79-4149-9a70-94cd0badb4a6",
   "metadata": {},
   "outputs": [],
   "source": [
    "from typing import List\n",
    "from collections import Counter\n",
    "class Solution:\n",
    "    def findAnagrams(self, s: str, p: str) -> List[int]:\n",
    "        m, n = len(p), len(s)\n",
    "        if m > n:\n",
    "            return []\n",
    "\n",
    "        need = Counter(p)           # target frequency of each char in p\n",
    "        window = Counter(s[:m])     # freq in the first window of size m\n",
    "\n",
    "        result = []\n",
    "\n",
    "        if window == need:\n",
    "            result.append(0)\n",
    "\n",
    "        for right in range(m, n):\n",
    "            left = right - m\n",
    "            # add new right char\n",
    "            window[s[right]] += 1\n",
    "\n",
    "            # remove old left char\n",
    "            window[s[left]] -= 1\n",
    "            if window[s[left]] == 0:\n",
    "                del window[s[left]]\n",
    "\n",
    "            if window == need:\n",
    "                result.append(left + 1)\n",
    "\n",
    "        return result        "
   ]
  },
  {
   "cell_type": "code",
   "execution_count": 90,
   "id": "0aee030d-f99c-4f00-9fae-7b943c78c4ea",
   "metadata": {},
   "outputs": [
    {
     "name": "stdout",
     "output_type": "stream",
     "text": [
      "[0, 6]\n"
     ]
    }
   ],
   "source": [
    "s = \"cbaebabacd\"\n",
    "p = \"abc\"\n",
    "sol = Solution()\n",
    "print(sol.findAnagrams(s, p))"
   ]
  },
  {
   "cell_type": "markdown",
   "id": "bef62614-74f0-464a-aa59-b18cf7cee1c4",
   "metadata": {},
   "source": [
    "151. Reverse Words in a String"
   ]
  },
  {
   "cell_type": "markdown",
   "id": "4404d6cc-5e28-476a-a091-4ad5dbe1643a",
   "metadata": {},
   "source": [
    "https://leetcode.com/problems/reverse-words-in-a-string"
   ]
  },
  {
   "cell_type": "code",
   "execution_count": 111,
   "id": "e84fd875-d886-48a1-a8aa-a6d5b937753b",
   "metadata": {},
   "outputs": [],
   "source": [
    "class Solution:\n",
    "    def reverseWords(self, s: str) -> str:\n",
    "        reverse = []\n",
    "        # Split\n",
    "        elements = s.split()\n",
    "        n = len(elements)\n",
    "        # Reverse string\n",
    "        for i in range(n - 1, -1, -1):\n",
    "            reverse.append(elements[i])\n",
    "        # Join\n",
    "        result = ' '.join(reverse)\n",
    "        return result"
   ]
  },
  {
   "cell_type": "code",
   "execution_count": 114,
   "id": "22d8c4c1-293b-471d-b3a9-b3a4122f462b",
   "metadata": {},
   "outputs": [
    {
     "name": "stdout",
     "output_type": "stream",
     "text": [
      "example good a\n"
     ]
    }
   ],
   "source": [
    "s = \"a good   example\"\n",
    "sol = Solution()\n",
    "print(sol.reverseWords(s))"
   ]
  }
 ],
 "metadata": {
  "kernelspec": {
   "display_name": "Python 3 (ipykernel)",
   "language": "python",
   "name": "python3"
  },
  "language_info": {
   "codemirror_mode": {
    "name": "ipython",
    "version": 3
   },
   "file_extension": ".py",
   "mimetype": "text/x-python",
   "name": "python",
   "nbconvert_exporter": "python",
   "pygments_lexer": "ipython3",
   "version": "3.13.5"
  }
 },
 "nbformat": 4,
 "nbformat_minor": 5
}
