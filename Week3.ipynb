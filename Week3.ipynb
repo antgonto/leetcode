{
 "cells": [
  {
   "cell_type": "markdown",
   "id": "1e4db1c4-43a8-4d0f-b6c2-238e91b8eab7",
   "metadata": {},
   "source": [
    "## Helpers"
   ]
  },
  {
   "cell_type": "code",
   "execution_count": 21,
   "id": "3248fa3b-95d4-419a-bd14-94b0fd54b029",
   "metadata": {},
   "outputs": [],
   "source": [
    "def build_list(values):\n",
    "    node = ListNode()\n",
    "    cur = node\n",
    "    for v in values:\n",
    "        cur.next = ListNode(v)\n",
    "        cur = cur.next\n",
    "    return node.next"
   ]
  },
  {
   "cell_type": "markdown",
   "id": "32db4deb-a3e8-49dd-8fbf-42804227be99",
   "metadata": {},
   "source": [
    "234. Palindrome Linked List"
   ]
  },
  {
   "cell_type": "markdown",
   "id": "ff6b004b-9684-4f3f-8b19-f1105166ba34",
   "metadata": {},
   "source": [
    "https://leetcode.com/problems/palindrome-linked-list"
   ]
  },
  {
   "cell_type": "code",
   "execution_count": 16,
   "id": "31df1aef-c7e3-4013-8a04-45345929357f",
   "metadata": {},
   "outputs": [],
   "source": [
    "# Definition for singly-linked list.\n",
    "class ListNode:\n",
    "    def __init__(self, val=0, next=None):\n",
    "        self.val = val\n",
    "        self.next = next\n",
    "        \n",
    "class Solution:\n",
    "    def isPalindrome(self, head: \"ListNode | None\") -> bool:\n",
    "        if head is None or head.next is None:\n",
    "            return True\n",
    "\n",
    "        # reverse first half while finding middle\n",
    "        slow = fast = head\n",
    "        rev = None\n",
    "        while fast and fast.next:\n",
    "            fast = fast.next.next\n",
    "            nxt = slow.next\n",
    "            slow.next = rev   # reverse link\n",
    "            rev = slow\n",
    "            slow = nxt\n",
    "\n",
    "        # if odd length, skip middle node\n",
    "        if fast:\n",
    "            slow = slow.next\n",
    "\n",
    "        # compare reversed first half (rev) with second half (slow)\n",
    "        p1, p2 = rev, slow\n",
    "        while p1 and p2:\n",
    "            if p1.val != p2.val:\n",
    "                return False\n",
    "            p1 = p1.next\n",
    "            p2 = p2.next\n",
    "        return True"
   ]
  },
  {
   "cell_type": "code",
   "execution_count": 18,
   "id": "8c4471b5-0511-4aa8-9e48-b82c73ce3181",
   "metadata": {},
   "outputs": [
    {
     "name": "stdout",
     "output_type": "stream",
     "text": [
      "True\n"
     ]
    }
   ],
   "source": [
    "head = [1,2,2,1]\n",
    "l = build_list(head)\n",
    "solution = Solution()\n",
    "print(solution.isPalindrome(l)) "
   ]
  },
  {
   "cell_type": "markdown",
   "id": "ba9f512d-8358-4962-a16b-a6c6f456922c",
   "metadata": {},
   "source": [
    "143. Reorder List"
   ]
  },
  {
   "cell_type": "markdown",
   "id": "81918b5e-a0b8-4ff6-a9b2-fca5bea0a721",
   "metadata": {},
   "source": [
    "https://leetcode.com/problems/reorder-list"
   ]
  },
  {
   "cell_type": "code",
   "execution_count": 19,
   "id": "8dd5991a-0ad9-4cf2-85fc-fc8b06ec1677",
   "metadata": {},
   "outputs": [],
   "source": [
    "# Definition for singly-linked list.\n",
    "class ListNode:\n",
    "    def __init__(self, val=0, next=None):\n",
    "        self.val = val\n",
    "        self.next = next\n",
    "        \n",
    "class Solution:\n",
    "    def reorderList(self, head: 'ListNode') -> None:\n",
    "        if not head or not head.next or not head.next.next:\n",
    "            return\n",
    "\n",
    "        slow, fast = head, head\n",
    "        while fast and fast.next:\n",
    "            slow = slow.next\n",
    "            fast = fast.next.next\n",
    "\n",
    "        second = slow.next\n",
    "        slow.next = None\n",
    "        prev = None\n",
    "        curr = second\n",
    "        while curr:\n",
    "            nxt = curr.next\n",
    "            curr.next = prev\n",
    "            prev = curr\n",
    "            curr = nxt\n",
    "        second = prev\n",
    "\n",
    "        first = head\n",
    "        while second:\n",
    "            tmp1 = first.next\n",
    "            tmp2 = second.next\n",
    "\n",
    "            first.next = second\n",
    "            second.next = tmp1\n",
    "\n",
    "            first = tmp1 if tmp1 else second \n",
    "            second = tmp2\n",
    "        return head"
   ]
  },
  {
   "cell_type": "code",
   "execution_count": 20,
   "id": "fb7f0731-9a51-4b6e-b51d-4f833b452422",
   "metadata": {},
   "outputs": [],
   "source": [
    "head = [1,2,3,4]\n",
    "l = build_list(head)\n",
    "solution = Solution()\n",
    "head = solution.reorderList(l) "
   ]
  },
  {
   "cell_type": "markdown",
   "id": "7f4e81a4-5c79-4aa6-b8f5-9d1ccb6f8e2d",
   "metadata": {},
   "source": [
    "73. Set Matrix Zeroes"
   ]
  },
  {
   "cell_type": "markdown",
   "id": "4742a8d6-bb77-497b-a5f4-fa6e7125a36f",
   "metadata": {},
   "source": [
    "https://leetcode.com/problems/set-matrix-zeroes"
   ]
  },
  {
   "cell_type": "code",
   "execution_count": 61,
   "id": "3f702335-3c7b-479c-a036-d787d0ad48e0",
   "metadata": {},
   "outputs": [],
   "source": [
    "from typing import List\n",
    "from collections import defaultdict\n",
    "class Solution:\n",
    "    def setZeroes(self, matrix: List[List[int]]) -> None:\n",
    "        if not matrix or not matrix[0]:\n",
    "            return\n",
    "\n",
    "        m, n = len(matrix), len(matrix[0])\n",
    "        rows, cols = set(), set()\n",
    "\n",
    "        for i in range(m):\n",
    "            for j in range(n):\n",
    "                if matrix[i][j] == 0:\n",
    "                    rows.add(i)\n",
    "                    cols.add(j)\n",
    "\n",
    "        for i in rows:\n",
    "            for j in range(n):\n",
    "                matrix[i][j] = 0\n",
    "\n",
    "        for j in cols:\n",
    "            for i in range(m):\n",
    "                matrix[i][j] = 0\n",
    "        \n",
    "        return matrix"
   ]
  },
  {
   "cell_type": "code",
   "execution_count": 62,
   "id": "9e77690f-185f-4fb3-aa6b-fb3a61eb7b7e",
   "metadata": {},
   "outputs": [
    {
     "name": "stdout",
     "output_type": "stream",
     "text": [
      "[[0, 0, 0, 0], [0, 4, 5, 0], [0, 3, 1, 0]]\n"
     ]
    }
   ],
   "source": [
    "matrix = [[0,1,2,0],[3,4,5,2],[1,3,1,5]]\n",
    "solution = Solution()\n",
    "mat = solution.setZeroes(matrix) \n",
    "print(mat)"
   ]
  }
 ],
 "metadata": {
  "kernelspec": {
   "display_name": "Python 3 (ipykernel)",
   "language": "python",
   "name": "python3"
  },
  "language_info": {
   "codemirror_mode": {
    "name": "ipython",
    "version": 3
   },
   "file_extension": ".py",
   "mimetype": "text/x-python",
   "name": "python",
   "nbconvert_exporter": "python",
   "pygments_lexer": "ipython3",
   "version": "3.13.5"
  }
 },
 "nbformat": 4,
 "nbformat_minor": 5
}
